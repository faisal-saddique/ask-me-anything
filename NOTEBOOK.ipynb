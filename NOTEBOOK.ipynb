{
 "cells": [
  {
   "cell_type": "code",
   "execution_count": 1,
   "metadata": {},
   "outputs": [],
   "source": [
    "import os\n",
    "from dotenv import load_dotenv\n",
    "\n",
    "load_dotenv()\n",
    "\n",
    "from langchain.embeddings.openai import OpenAIEmbeddings\n",
    "from langchain.text_splitter import CharacterTextSplitter\n",
    "from langchain.vectorstores import Weaviate\n",
    "from langchain.document_loaders import TextLoader\n",
    "\n",
    "from langchain.document_loaders import TextLoader\n",
    "\n",
    "loader = TextLoader(\"./wonders.txt\")\n",
    "documents = loader.load()\n",
    "text_splitter = CharacterTextSplitter(chunk_size=1000, chunk_overlap=0)\n",
    "docs = text_splitter.split_documents(documents)"
   ]
  },
  {
   "cell_type": "code",
   "execution_count": 2,
   "metadata": {},
   "outputs": [
    {
     "data": {
      "text/plain": [
       "[Document(page_content=\"Seven Wonders of the World\\nThe Seven Wonders of the World are a group of places around the globe that are considered to be of great importance. These are: The Colosseum in Italy, Petra in Jordan, ChichÃ©n ItzÃ¡ in Mexico, Christ the Redeemer in Brazil, Machu Picchu in Peru, Taj Mahal in India and The Great Wall of China.\\nDownload Arrow\\nDownload FREE teacher-made resources covering 'Seven Wonders of the World'\\nView FREE Resources Chevron Right\\nWhat are the Seven Wonders of the World?\\nThe original seven wonders, also referred to as the Seven Wonders of the Ancient World, were:\\n\\nThe Great Pyramid of Giza, Egypt;\\nThe Hanging Gardens of Babylon;\\nThe Statue of Zeus at Olympia;\\nThe Temple of Artemis at Ephesus;\\nThe Mausoleum at Halicarnassus;\\nThe Colossus of Rhodes;\\nThe Lighthouse of Alexandria.\\nThe Seven Wonders of the Ancient World were remarkable, humanly-constructed landmarks from ancient, classical civilisations. This original list dates from the second century BC.\", metadata={'source': './wonders.txt'}),\n",
       " Document(page_content='How many of the original Seven Wonders still exist?\\nThe Great Pyramid of Giza is the only ancient wonder that still exists today. The other six have either disappeared or are in ruin.\\n\\nWhy are there only Seven Wonders?\\nEven though there are a multitude of hugely impressive ancient sights, there have only ever been seven ancient wonders of the world. The ancient Greeks believed the number seven represented perfection, so it was a particularly significant number for them.\\n\\nWhat are the new Seven Wonders?\\nIn 2000, a campaign was started to decide on seven new world wonders. Over 100 million people cast their votes in order to whittle over 200 places down to just seven. Then, in 2017, the new modern list of the Seven Wonders of the World, featuring landmarks that are still in existence today, was finalised.\\n\\nLetâ€™s take a look at the modern list of the Seven Wonders of the World:\\n\\n1. The Great Wall of China', metadata={'source': './wonders.txt'}),\n",
       " Document(page_content='The Great Wall of China is the longest wall in the world! The Chinese national symbol was built by several dynasties (ruling families) over hundreds of years (nearly 1,800), starting in about 220 BC. The wall was built to defend areas from invasions and had watchtowers built on the highest places. The famous landmark is actually made up of lots of overlapping walls that measure a combined length of up to 20,000 kilometres. Millions of people visit the Wonder every year.\\n\\n2. Taj Mahal, India', metadata={'source': './wonders.txt'}),\n",
       " Document(page_content='This magnificent landmark took 16 years and 20,000 workers to build! It was commissioned to be built in 1632 by Emperor Shah Jahan with the purpose of housing the tomb of his wife, Mumtaz. Architecturally, the building represents symmetry and balance, and the colour of the exterior marble walls change depending on the time of day. In the morning sun, the white marble looks a shade of pink. During the evening, it looks the colour of milk and looks golden at night when lit by the moon. Because the Taj Mahal commemorates Shah Jahanâ€™s love for Mumtaz, couples like to have their photographs taken with the building in the background.\\n\\n3. Petra, Jordan', metadata={'source': './wonders.txt'}),\n",
       " Document(page_content='Petra is an ancient city carved into rock. It is thought that it was built over 2,000 years ago by a group of people who lived in the Wadi Musa valley, called the Nabateans. However, not much is known about the Nabateans. The city fell to the Roman Empire in AD 106 and an earthquake in AD 363 damaged the city, which resulted in it eventually falling into disuse. The city ruins were rediscovered in 1812 by a Swiss explorer called Johann Burckhardt.\\n\\n4. The Colosseum, Italy\\n\\n\\nThe Colosseum, also known as the Flavian Amphitheatre, was built between AD 70 and AD 80. It was used for gladiator fights, animal hunts and public executions for four centuries. The floor could also be flooded in order to stage sea battles! Following the fall of the Roman Empire, the architectural masterpiece was actually used as a housing complex. Then, in 1349, a great earthquake destroyed parts of the structure. Despite the damage done over the years, it remains an incredibly popular tourist attraction today.', metadata={'source': './wonders.txt'}),\n",
       " Document(page_content='5. Christ the Redeemer, Brazil\\n\\n\\nChrist the Redeemer is a statue located at the summit of Corcovado Mountain overlooking Rio de Janeiro in Brazil. The statue shows Jesus Christ with his arms spread out over the city. The statue is 30 metres tall, with an arm span of the statue is 28 metres!\\n\\nThe structure is the newest wonder, having been completed in 1931. At the time of its construction, Brazil was a predominantly Catholic country, and images of the Christ statue were spread throughout.\\n\\n6. ChichÃ©n ItzÃ¡, Mexico\\n\\n\\nChichÃ©n ItzÃ¡ was a city built by The Maya people over 1,500 years ago. The city was an important political and economic centre for The Maya people. Youâ€™ll find the Temple of KukulkÃ¡n (named after the serpent deity), sometimes also referred to as El Castillo, there. It has 91 steps on each of its four sides. An extra step was added at the top of the temple to total 365 steps â€“ one for each day of the year. The top of the temple features a carving of KukulkÃ¡n.', metadata={'source': './wonders.txt'}),\n",
       " Document(page_content='7. Machu Picchu, Peru\\n\\n\\nMachu Picchu is the ruins of a city from the Incan empire that was built in the 15th century. The ruins are in the Andes Mountains, over 2,000 metres above sea level. Its walls and other architectural elements are cut into the natural rock.\\n\\nItâ€™s not certain why the city was first built, although some sources suggest it was used as a royal retreat for the emperor, Pachacuti Inca Yupanqui. It is thought to have been used between the 15th and 16th centuries, but was gradually abandoned over time. Today, it is a very popular tourist site, so much so that the Peruvian government has begun limiting the amount of people able to visit each year to preserve it.', metadata={'source': './wonders.txt'})]"
      ]
     },
     "execution_count": 2,
     "metadata": {},
     "output_type": "execute_result"
    }
   ],
   "source": [
    "docs"
   ]
  },
  {
   "cell_type": "code",
   "execution_count": 3,
   "metadata": {},
   "outputs": [],
   "source": [
    "embeddings = OpenAIEmbeddings()\n",
    "\n",
    "db = Weaviate.from_documents(docs, embeddings, weaviate_url=os.getenv(\"WEAVIATE_URL\"), by_text=False)"
   ]
  },
  {
   "cell_type": "code",
   "execution_count": 7,
   "metadata": {},
   "outputs": [
    {
     "data": {
      "text/plain": [
       "Document(page_content=\"Seven Wonders of the World\\nThe Seven Wonders of the World are a group of places around the globe that are considered to be of great importance. These are: The Colosseum in Italy, Petra in Jordan, ChichÃ©n ItzÃ¡ in Mexico, Christ the Redeemer in Brazil, Machu Picchu in Peru, Taj Mahal in India and The Great Wall of China.\\nDownload Arrow\\nDownload FREE teacher-made resources covering 'Seven Wonders of the World'\\nView FREE Resources Chevron Right\\nWhat are the Seven Wonders of the World?\\nThe original seven wonders, also referred to as the Seven Wonders of the Ancient World, were:\\n\\nThe Great Pyramid of Giza, Egypt;\\nThe Hanging Gardens of Babylon;\\nThe Statue of Zeus at Olympia;\\nThe Temple of Artemis at Ephesus;\\nThe Mausoleum at Halicarnassus;\\nThe Colossus of Rhodes;\\nThe Lighthouse of Alexandria.\\nThe Seven Wonders of the Ancient World were remarkable, humanly-constructed landmarks from ancient, classical civilisations. This original list dates from the second century BC.\", metadata={'source': './wonders.txt'})"
      ]
     },
     "execution_count": 7,
     "metadata": {},
     "output_type": "execute_result"
    }
   ],
   "source": [
    "query = \"what is the first wonder?\"\n",
    "retriever = db.as_retriever(search_type=\"mmr\")\n",
    "retriever.get_relevant_documents(query)[0]"
   ]
  },
  {
   "cell_type": "code",
   "execution_count": 8,
   "metadata": {},
   "outputs": [],
   "source": [
    "from langchain.chains import RetrievalQAWithSourcesChain\n",
    "from langchain.llms import OpenAI"
   ]
  },
  {
   "cell_type": "code",
   "execution_count": 9,
   "metadata": {},
   "outputs": [],
   "source": [
    "chain = RetrievalQAWithSourcesChain.from_chain_type(\n",
    "    OpenAI(temperature=0), chain_type=\"stuff\", retriever=db.as_retriever()\n",
    ")"
   ]
  },
  {
   "cell_type": "code",
   "execution_count": 10,
   "metadata": {},
   "outputs": [
    {
     "data": {
      "text/plain": [
       "{'answer': ' The first wonder is The Great Pyramid of Giza in Egypt.\\n',\n",
       " 'sources': './wonders.txt'}"
      ]
     },
     "execution_count": 10,
     "metadata": {},
     "output_type": "execute_result"
    }
   ],
   "source": [
    "chain(\n",
    "    {\"question\":  \"what is the first wonder?\"},\n",
    "    return_only_outputs=True,\n",
    ")"
   ]
  },
  {
   "cell_type": "code",
   "execution_count": null,
   "metadata": {},
   "outputs": [],
   "source": [
    "import weaviate\n",
    "import os\n",
    "\n",
    "WEAVIATE_URL = os.getenv(\"WEAVIATE_URL\")\n",
    "auth_client_secret = (weaviate.AuthApiKey(api_key=os.getenv(\"WEAVIATE_API_KEY\")),)\n",
    "client = weaviate.Client(\n",
    "    url=WEAVIATE_URL,\n",
    "    additional_headers={\n",
    "        \"X-Openai-Api-Key\": os.getenv(\"OPENAI_API_KEY\"),\n",
    "    },\n",
    ")"
   ]
  }
 ],
 "metadata": {
  "kernelspec": {
   "display_name": "Python 3",
   "language": "python",
   "name": "python3"
  },
  "language_info": {
   "codemirror_mode": {
    "name": "ipython",
    "version": 3
   },
   "file_extension": ".py",
   "mimetype": "text/x-python",
   "name": "python",
   "nbconvert_exporter": "python",
   "pygments_lexer": "ipython3",
   "version": "3.11.4"
  }
 },
 "nbformat": 4,
 "nbformat_minor": 2
}
